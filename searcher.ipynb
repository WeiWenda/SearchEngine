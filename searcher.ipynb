{
 "cells": [
  {
   "cell_type": "code",
   "execution_count": null,
   "metadata": {
    "collapsed": true
   },
   "outputs": [],
   "source": [
    "import MySQLdb as mysql\n",
    "class searcher:\n",
    "    def __init_ _(self,dbname):\n",
    "        self.con=mysql.connect(host=\"localhost\",user=\"root\",passwd=\"root\",db=dbname,charset='utf8')\n",
    "        self.cursor=self.con.cursor()\n",
    "    def __del_ _(self):\n",
    "        self.cursor.close()\n",
    "        self.con.close()"
   ]
  }
 ],
 "metadata": {
  "kernelspec": {
   "display_name": "Python 2",
   "language": "python",
   "name": "python2"
  },
  "language_info": {
   "codemirror_mode": {
    "name": "ipython",
    "version": 2
   },
   "file_extension": ".py",
   "mimetype": "text/x-python",
   "name": "python",
   "nbconvert_exporter": "python",
   "pygments_lexer": "ipython2",
   "version": "2.7.11"
  }
 },
 "nbformat": 4,
 "nbformat_minor": 0
}
