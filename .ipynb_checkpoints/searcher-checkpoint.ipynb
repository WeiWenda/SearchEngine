{
 "cells": [
  {
   "cell_type": "code",
   "execution_count": null,
   "metadata": {
    "collapsed": false,
    "scrolled": true,
    "slideshow": {
     "slide_type": "subslide"
    }
   },
   "outputs": [],
   "source": [
    "import MySQLdb as mysql\n",
    "import jieba\n",
    "import re\n",
    "class searcher:\n",
    "    def __init__(self,dbname):\n",
    "        self.con=mysql.connect(host=\"localhost\",user=\"root\",passwd=\"root\",db=dbname,charset='utf8')\n",
    "        self.cursor=self.con.cursor()\n",
    "    def __del__(self):\n",
    "        self.cursor.close()\n",
    "        self.con.close()\n",
    "    def separatewords(self,text):\n",
    "        return list(jieba.cut_for_search(re.sub(u'([^\\u4e00-\\u9fa5]+)',\"\",text.decode('utf8'))))\n",
    "    def getscoredlist(self,rows,wordids):\n",
    "        totalscores=dict([(row[0],0) for row in rows])\n",
    "        # This is where you'll later put the scoring functions\n",
    "#         weights=[(1.0,self.frequencyscore(rows))]\n",
    "#         weights =[(1.0,self.locationscore(rows))]\n",
    "        weights =[(1.0,self.distancescore(rows))]\n",
    "        for (weight,scores) in weights:\n",
    "            for url in totalscores:\n",
    "                totalscores[url]+=weight*scores[url]\n",
    "        return totalscores\n",
    "    def geturlname(self,id):\n",
    "        self.cursor.execute(\"select url from urllist where rowid=%d\" % id)\n",
    "        return self.cursor.fetchone()[0]\n",
    "    def query(self,q):\n",
    "        rows,wordids=self.getmatchrows(q)\n",
    "        scores=self.getscoredlist(rows,wordids)\n",
    "        rankedscores=sorted([(score,url) for (url,score) in scores.items( )],reverse=1)\n",
    "        #只输出前10位的搜索结果\n",
    "        for (score,urlid) in rankedscores[0:10]:\n",
    "            print '%f\\t%s' % (score,self.geturlname(urlid))\n",
    "    def normalizescores(self,scores,smallIsBetter=0):\n",
    "        vsmall=0.00001 # Avoid division by zero errors\n",
    "        if smallIsBetter:\n",
    "            minscore=min(scores.values( ))\n",
    "            return dict([(u,float(minscore)/max(vsmall,l)) for (u,l) in scores.items( )])\n",
    "        else:\n",
    "            maxscore=max(scores.values( ))\n",
    "            if maxscore==0: maxscore=vsmall\n",
    "            return dict([(u,float(c)/maxscore) for (u,c) in scores.items( )])\n",
    "    def frequencyscore(self,rows):\n",
    "        counts=dict([(row[0],0) for row in rows])\n",
    "        #出现的组合数越多，词频越大\n",
    "        for row in rows: counts[row[0]]+=1\n",
    "        return self.normalizescores(counts)\n",
    "    #理论上比词频更能防止作弊\n",
    "    def locationscore(self,rows):\n",
    "        locations=dict([(row[0],1000000) for row in rows])\n",
    "        for row in rows:\n",
    "            loc=sum(map(lambda x:int(x),row[1:]))\n",
    "            #防止location之和超过1000000，同时取最小 \n",
    "            if loc<locations[row[0]]: locations[row[0]]=loc\n",
    "        return self.normalizescores(locations,smallIsBetter=1)\n",
    "    def distancescore(self,rows):\n",
    "        # If there's only one word, everyone wins!\n",
    "        #第一个是url，后面的是locations\n",
    "        if len(rows[0])<=2: return dict([(row[0],1.0) for row in rows])\n",
    "        # Initialize the dictionary with large values\n",
    "        mindistance=dict([(row[0],1000000) for row in rows])\n",
    "        for row in rows:\n",
    "            #index from 1 to len(row)-1 是locations\n",
    "            #相邻query词的location之间的差值越小，越好\n",
    "            dist=sum([abs(int(row[i])-int(row[i-1])) for i in range(2,len(row))])\n",
    "            if dist<mindistance[row[0]]: mindistance[row[0]]=dist\n",
    "        return self.normalizescores(mindistance,smallIsBetter=1)\n",
    "    def getmatchrows(self,q):\n",
    "        # Strings to build the query\n",
    "        fieldlist='w0.urlid'\n",
    "        tablelist=''\n",
    "        clauselist=''\n",
    "        wordids=[]\n",
    "        # Split the words by spaces\n",
    "        words=self.separatewords(q)\n",
    "        tablenumber=0\n",
    "        for word in words:\n",
    "        # Get the word ID\n",
    "            wordrow=self.cursor.execute(\"select rowid from wordlist where word='%s'\" % word)\n",
    "            if wordrow!=0:\n",
    "                wordid=self.cursor.fetchone()[0]\n",
    "                wordids.append(wordid)\n",
    "                if tablenumber>0:\n",
    "                    tablelist+=','\n",
    "                    clauselist+=' and '\n",
    "                    clauselist+='w%d.urlid=w%d.urlid and ' % (tablenumber-1,tablenumber)\n",
    "                fieldlist+=',w%d.location' % tablenumber\n",
    "                tablelist+='wordlocation as w%d' % tablenumber\n",
    "                clauselist+='w%d.wordid=%d' % (tablenumber,wordid)\n",
    "                tablenumber+=1\n",
    "        # Create the query from the separate parts\n",
    "        fullquery='select %s from %s where %s' % (fieldlist,tablelist,clauselist)\n",
    "        self.cursor.execute(fullquery)\n",
    "        rows=[row for row in self.cursor.fetchall()]\n",
    "        return rows,wordids\n",
    "    def inboundlinkscore(self,rows):\n",
    "        #用set集合来去重\n",
    "        uniqueurls=set([row[0] for row in rows])\n",
    "        def select_count(u):\n",
    "            self.cursor.execute('select count(*) from link where toid=%d' % u)\n",
    "            return (u,self.cursor.fetchone()[0])\n",
    "        inboundcount=map(lambda u:select_count(u),uniqueurls)\n",
    "        return self.normalizescores(inboundcount)"
   ]
  },
  {
   "cell_type": "code",
   "execution_count": null,
   "metadata": {
    "collapsed": false,
    "scrolled": true
   },
   "outputs": [],
   "source": [
    "mycrawler=searcher('searchEngine')\n",
    "mycrawler.query(\"通过用户自定义词典来增强歧义纠错能力\")"
   ]
  },
  {
   "cell_type": "code",
   "execution_count": null,
   "metadata": {
    "collapsed": false
   },
   "outputs": [],
   "source": [
    "# con=mysql.connect(host=\"localhost\",user=\"root\",passwd=\"root\",db=\"searchEngine\",charset='utf8')\n",
    "# cursor=con.cursor()\n",
    "# cursor.execute(\"select url from urllist where rowid=%d\" % 60)\n",
    "# a=cursor.fetchone()\n",
    "# print a\n",
    "# len(a)\n",
    "range(0,2)"
   ]
  },
  {
   "cell_type": "code",
   "execution_count": null,
   "metadata": {
    "collapsed": true
   },
   "outputs": [],
   "source": []
  }
 ],
 "metadata": {
  "kernelspec": {
   "display_name": "Python 2",
   "language": "python",
   "name": "python2"
  },
  "language_info": {
   "codemirror_mode": {
    "name": "ipython",
    "version": 2
   },
   "file_extension": ".py",
   "mimetype": "text/x-python",
   "name": "python",
   "nbconvert_exporter": "python",
   "pygments_lexer": "ipython2",
   "version": "2.7.11"
  }
 },
 "nbformat": 4,
 "nbformat_minor": 0
}
